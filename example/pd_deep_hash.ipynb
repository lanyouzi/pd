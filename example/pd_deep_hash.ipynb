{
 "cells": [
  {
   "cell_type": "code",
   "execution_count": 138,
   "metadata": {},
   "outputs": [],
   "source": [
    "import pandas as pd\n",
    "import matplotlib\n",
    "# matplotlib.use('Agg')\n",
    "import seaborn as sns\n",
    "import json\n",
    "import numpy as np\n",
    "import pickle\n",
    "from scipy.signal import find_peaks\n",
    "import pandas as pd\n",
    "import json\n",
    "import numpy as np\n",
    "import os\n",
    "import shutil\n",
    "from PIL import Image\n",
    "import argparse\n",
    "import scipy.misc\n",
    "import imageio\n",
    "from scipy import signal\n",
    "from scipy.signal import find_peaks\n",
    "import math\n",
    "from numpy.fft import rfft, fft\n",
    "from tqdm import tqdm\n",
    "from scipy.interpolate import CubicSpline\n",
    "from transforms3d.axangles import axangle2mat\n",
    "import matplotlib.pyplot as plt\n",
    "import seaborn as sns\n",
    "import time\n",
    "# pd.set_option('display.unicode.ambiguous_as_wide', True)\n",
    "# pd.set_option('display.unicode.east_asian_width', True)"
   ]
  },
  {
   "cell_type": "markdown",
   "metadata": {},
   "source": [
    "# Data Preprocessing"
   ]
  },
  {
   "cell_type": "code",
   "execution_count": 120,
   "metadata": {},
   "outputs": [],
   "source": [
    "data_dir = './pd_data'\n",
    "# read gait, survey and voice data\n",
    "pd_gait_path = os.path.join(data_dir, 'pd_gait.csv')\n",
    "pd_survey_path = os.path.join(data_dir, 'pd_survey.csv')\n",
    "pd_voice_path = os.path.join(data_dir, 'pd_voice.csv')\n",
    "\n",
    "if not os.path.exists(pd_gait_path):\n",
    "    print(\"pd gait file is not exist\")\n",
    "if not os.path.exists(pd_survey_path):\n",
    "    print(\"pd survey file is not exist\")\n",
    "if not os.path.exists(pd_voice_path):\n",
    "    print(\"pd voice file is not exist\")"
   ]
  },
  {
   "cell_type": "code",
   "execution_count": 121,
   "metadata": {},
   "outputs": [
    {
     "data": {
      "text/html": [
       "<div>\n",
       "<style scoped>\n",
       "    .dataframe tbody tr th:only-of-type {\n",
       "        vertical-align: middle;\n",
       "    }\n",
       "\n",
       "    .dataframe tbody tr th {\n",
       "        vertical-align: top;\n",
       "    }\n",
       "\n",
       "    .dataframe thead th {\n",
       "        text-align: right;\n",
       "    }\n",
       "</style>\n",
       "<table border=\"1\" class=\"dataframe\">\n",
       "  <thead>\n",
       "    <tr style=\"text-align: right;\">\n",
       "      <th></th>\n",
       "      <th>health-history</th>\n",
       "      <th>healthCode</th>\n",
       "      <th>professional-diagnosis</th>\n",
       "      <th>medication-start-year</th>\n",
       "      <th>onset-year</th>\n",
       "      <th>recordId</th>\n",
       "      <th>createdOn</th>\n",
       "      <th>appVersion</th>\n",
       "      <th>phoneInfo</th>\n",
       "      <th>accel_walking_outbound.json.items</th>\n",
       "      <th>deviceMotion_walking_outbound.json.items</th>\n",
       "      <th>pedometer_walking_outbound.json.items</th>\n",
       "      <th>accel_walking_return.json.items</th>\n",
       "      <th>deviceMotion_walking_return.json.items</th>\n",
       "      <th>pedometer_walking_return.json.items</th>\n",
       "      <th>accel_walking_rest.json.items</th>\n",
       "      <th>deviceMotion_walking_rest.json.items</th>\n",
       "      <th>medTimepoint</th>\n",
       "    </tr>\n",
       "  </thead>\n",
       "  <tbody>\n",
       "    <tr>\n",
       "      <th>0</th>\n",
       "      <td>0</td>\n",
       "      <td>2257e233-5815-4211-b0f2-7f135d1604b0</td>\n",
       "      <td>True</td>\n",
       "      <td>2008.0</td>\n",
       "      <td>2007.0</td>\n",
       "      <td>0386fe7d-40d2-4f8a-993e-cfd1cdea587d</td>\n",
       "      <td>1.425929e+12</td>\n",
       "      <td>version 1.0, build 7</td>\n",
       "      <td>iPhone 6</td>\n",
       "      <td>data/accel_walking_outbound.json.items-f855557...</td>\n",
       "      <td>data/deviceMotion_walking_outbound.json.items-...</td>\n",
       "      <td>data/pedometer_walking_outbound.json.items-41b...</td>\n",
       "      <td>data/accel_walking_return.json.items-857a2a93-...</td>\n",
       "      <td>data/deviceMotion_walking_return.json.items-da...</td>\n",
       "      <td>data/pedometer_walking_return.json.items-a03a2...</td>\n",
       "      <td>data/accel_walking_rest.json.items-8623afd5-5c...</td>\n",
       "      <td>data/deviceMotion_walking_rest.json.items-ff1f...</td>\n",
       "      <td>Another time</td>\n",
       "    </tr>\n",
       "    <tr>\n",
       "      <th>1</th>\n",
       "      <td>0</td>\n",
       "      <td>2257e233-5815-4211-b0f2-7f135d1604b0</td>\n",
       "      <td>True</td>\n",
       "      <td>2008.0</td>\n",
       "      <td>2007.0</td>\n",
       "      <td>9b7d730b-e9b5-45c2-9865-369130c146f4</td>\n",
       "      <td>1.426000e+12</td>\n",
       "      <td>version 1.0, build 7</td>\n",
       "      <td>iPhone 6</td>\n",
       "      <td>data/accel_walking_outbound.json.items-43507cb...</td>\n",
       "      <td>data/deviceMotion_walking_outbound.json.items-...</td>\n",
       "      <td>data/pedometer_walking_outbound.json.items-8ea...</td>\n",
       "      <td>data/accel_walking_return.json.items-2519f0fb-...</td>\n",
       "      <td>data/deviceMotion_walking_return.json.items-27...</td>\n",
       "      <td>data/pedometer_walking_return.json.items-a7664...</td>\n",
       "      <td>data/accel_walking_rest.json.items-7b2715ab-30...</td>\n",
       "      <td>data/deviceMotion_walking_rest.json.items-eb2c...</td>\n",
       "      <td>Another time</td>\n",
       "    </tr>\n",
       "    <tr>\n",
       "      <th>2</th>\n",
       "      <td>0</td>\n",
       "      <td>2257e233-5815-4211-b0f2-7f135d1604b0</td>\n",
       "      <td>True</td>\n",
       "      <td>2008.0</td>\n",
       "      <td>2007.0</td>\n",
       "      <td>785a841c-2d4c-4379-aad5-959ca6a89d33</td>\n",
       "      <td>1.426000e+12</td>\n",
       "      <td>version 1.0, build 7</td>\n",
       "      <td>iPhone 6</td>\n",
       "      <td>data/accel_walking_outbound.json.items-da1eb5f...</td>\n",
       "      <td>data/deviceMotion_walking_outbound.json.items-...</td>\n",
       "      <td>data/pedometer_walking_outbound.json.items-d4e...</td>\n",
       "      <td>data/accel_walking_return.json.items-d8106373-...</td>\n",
       "      <td>data/deviceMotion_walking_return.json.items-e9...</td>\n",
       "      <td>data/pedometer_walking_return.json.items-4143f...</td>\n",
       "      <td>data/accel_walking_rest.json.items-5ef22f64-24...</td>\n",
       "      <td>data/deviceMotion_walking_rest.json.items-9f32...</td>\n",
       "      <td>Another time</td>\n",
       "    </tr>\n",
       "    <tr>\n",
       "      <th>3</th>\n",
       "      <td>0</td>\n",
       "      <td>2257e233-5815-4211-b0f2-7f135d1604b0</td>\n",
       "      <td>True</td>\n",
       "      <td>2008.0</td>\n",
       "      <td>2007.0</td>\n",
       "      <td>fcd763ce-c8fe-444d-b538-0516ff430427</td>\n",
       "      <td>1.426000e+12</td>\n",
       "      <td>version 1.0, build 7</td>\n",
       "      <td>iPhone 6</td>\n",
       "      <td>data/accel_walking_outbound.json.items-8506e92...</td>\n",
       "      <td>data/deviceMotion_walking_outbound.json.items-...</td>\n",
       "      <td>data/pedometer_walking_outbound.json.items-c38...</td>\n",
       "      <td>data/accel_walking_return.json.items-d0264f4e-...</td>\n",
       "      <td>data/deviceMotion_walking_return.json.items-da...</td>\n",
       "      <td>data/pedometer_walking_return.json.items-71bcb...</td>\n",
       "      <td>data/accel_walking_rest.json.items-b01af1d2-30...</td>\n",
       "      <td>data/deviceMotion_walking_rest.json.items-5fec...</td>\n",
       "      <td>Another time</td>\n",
       "    </tr>\n",
       "    <tr>\n",
       "      <th>4</th>\n",
       "      <td>0</td>\n",
       "      <td>2257e233-5815-4211-b0f2-7f135d1604b0</td>\n",
       "      <td>True</td>\n",
       "      <td>2008.0</td>\n",
       "      <td>2007.0</td>\n",
       "      <td>83235d50-3640-43f9-8329-0f37e05045bc</td>\n",
       "      <td>1.426098e+12</td>\n",
       "      <td>version 1.0, build 7</td>\n",
       "      <td>iPhone 6</td>\n",
       "      <td>data/accel_walking_outbound.json.items-acb09a1...</td>\n",
       "      <td>data/deviceMotion_walking_outbound.json.items-...</td>\n",
       "      <td>data/pedometer_walking_outbound.json.items-766...</td>\n",
       "      <td>data/accel_walking_return.json.items-ea466043-...</td>\n",
       "      <td>data/deviceMotion_walking_return.json.items-49...</td>\n",
       "      <td>data/pedometer_walking_return.json.items-c3993...</td>\n",
       "      <td>data/accel_walking_rest.json.items-2855a976-fb...</td>\n",
       "      <td>data/deviceMotion_walking_rest.json.items-d68d...</td>\n",
       "      <td>Another time</td>\n",
       "    </tr>\n",
       "  </tbody>\n",
       "</table>\n",
       "</div>"
      ],
      "text/plain": [
       "  health-history                            healthCode  \\\n",
       "0              0  2257e233-5815-4211-b0f2-7f135d1604b0   \n",
       "1              0  2257e233-5815-4211-b0f2-7f135d1604b0   \n",
       "2              0  2257e233-5815-4211-b0f2-7f135d1604b0   \n",
       "3              0  2257e233-5815-4211-b0f2-7f135d1604b0   \n",
       "4              0  2257e233-5815-4211-b0f2-7f135d1604b0   \n",
       "\n",
       "   professional-diagnosis  medication-start-year  onset-year  \\\n",
       "0                    True                 2008.0      2007.0   \n",
       "1                    True                 2008.0      2007.0   \n",
       "2                    True                 2008.0      2007.0   \n",
       "3                    True                 2008.0      2007.0   \n",
       "4                    True                 2008.0      2007.0   \n",
       "\n",
       "                               recordId     createdOn            appVersion  \\\n",
       "0  0386fe7d-40d2-4f8a-993e-cfd1cdea587d  1.425929e+12  version 1.0, build 7   \n",
       "1  9b7d730b-e9b5-45c2-9865-369130c146f4  1.426000e+12  version 1.0, build 7   \n",
       "2  785a841c-2d4c-4379-aad5-959ca6a89d33  1.426000e+12  version 1.0, build 7   \n",
       "3  fcd763ce-c8fe-444d-b538-0516ff430427  1.426000e+12  version 1.0, build 7   \n",
       "4  83235d50-3640-43f9-8329-0f37e05045bc  1.426098e+12  version 1.0, build 7   \n",
       "\n",
       "  phoneInfo                  accel_walking_outbound.json.items  \\\n",
       "0  iPhone 6  data/accel_walking_outbound.json.items-f855557...   \n",
       "1  iPhone 6  data/accel_walking_outbound.json.items-43507cb...   \n",
       "2  iPhone 6  data/accel_walking_outbound.json.items-da1eb5f...   \n",
       "3  iPhone 6  data/accel_walking_outbound.json.items-8506e92...   \n",
       "4  iPhone 6  data/accel_walking_outbound.json.items-acb09a1...   \n",
       "\n",
       "            deviceMotion_walking_outbound.json.items  \\\n",
       "0  data/deviceMotion_walking_outbound.json.items-...   \n",
       "1  data/deviceMotion_walking_outbound.json.items-...   \n",
       "2  data/deviceMotion_walking_outbound.json.items-...   \n",
       "3  data/deviceMotion_walking_outbound.json.items-...   \n",
       "4  data/deviceMotion_walking_outbound.json.items-...   \n",
       "\n",
       "               pedometer_walking_outbound.json.items  \\\n",
       "0  data/pedometer_walking_outbound.json.items-41b...   \n",
       "1  data/pedometer_walking_outbound.json.items-8ea...   \n",
       "2  data/pedometer_walking_outbound.json.items-d4e...   \n",
       "3  data/pedometer_walking_outbound.json.items-c38...   \n",
       "4  data/pedometer_walking_outbound.json.items-766...   \n",
       "\n",
       "                     accel_walking_return.json.items  \\\n",
       "0  data/accel_walking_return.json.items-857a2a93-...   \n",
       "1  data/accel_walking_return.json.items-2519f0fb-...   \n",
       "2  data/accel_walking_return.json.items-d8106373-...   \n",
       "3  data/accel_walking_return.json.items-d0264f4e-...   \n",
       "4  data/accel_walking_return.json.items-ea466043-...   \n",
       "\n",
       "              deviceMotion_walking_return.json.items  \\\n",
       "0  data/deviceMotion_walking_return.json.items-da...   \n",
       "1  data/deviceMotion_walking_return.json.items-27...   \n",
       "2  data/deviceMotion_walking_return.json.items-e9...   \n",
       "3  data/deviceMotion_walking_return.json.items-da...   \n",
       "4  data/deviceMotion_walking_return.json.items-49...   \n",
       "\n",
       "                 pedometer_walking_return.json.items  \\\n",
       "0  data/pedometer_walking_return.json.items-a03a2...   \n",
       "1  data/pedometer_walking_return.json.items-a7664...   \n",
       "2  data/pedometer_walking_return.json.items-4143f...   \n",
       "3  data/pedometer_walking_return.json.items-71bcb...   \n",
       "4  data/pedometer_walking_return.json.items-c3993...   \n",
       "\n",
       "                       accel_walking_rest.json.items  \\\n",
       "0  data/accel_walking_rest.json.items-8623afd5-5c...   \n",
       "1  data/accel_walking_rest.json.items-7b2715ab-30...   \n",
       "2  data/accel_walking_rest.json.items-5ef22f64-24...   \n",
       "3  data/accel_walking_rest.json.items-b01af1d2-30...   \n",
       "4  data/accel_walking_rest.json.items-2855a976-fb...   \n",
       "\n",
       "                deviceMotion_walking_rest.json.items  medTimepoint  \n",
       "0  data/deviceMotion_walking_rest.json.items-ff1f...  Another time  \n",
       "1  data/deviceMotion_walking_rest.json.items-eb2c...  Another time  \n",
       "2  data/deviceMotion_walking_rest.json.items-9f32...  Another time  \n",
       "3  data/deviceMotion_walking_rest.json.items-5fec...  Another time  \n",
       "4  data/deviceMotion_walking_rest.json.items-d68d...  Another time  "
      ]
     },
     "execution_count": 121,
     "metadata": {},
     "output_type": "execute_result"
    }
   ],
   "source": [
    "pd_gait_df = pd.read_csv(pd_gait_path, index_col=0)\n",
    "pd_gait_df.head()"
   ]
  },
  {
   "cell_type": "code",
   "execution_count": 122,
   "metadata": {},
   "outputs": [
    {
     "data": {
      "text/plain": [
       "health-history                                237\n",
       "healthCode                                    470\n",
       "professional-diagnosis                          1\n",
       "medication-start-year                          23\n",
       "onset-year                                     25\n",
       "recordId                                    10909\n",
       "createdOn                                   10903\n",
       "appVersion                                      3\n",
       "phoneInfo                                       7\n",
       "accel_walking_outbound.json.items           10907\n",
       "deviceMotion_walking_outbound.json.items    10908\n",
       "pedometer_walking_outbound.json.items       10643\n",
       "accel_walking_return.json.items              6673\n",
       "deviceMotion_walking_return.json.items       6673\n",
       "pedometer_walking_return.json.items          6670\n",
       "accel_walking_rest.json.items               10907\n",
       "deviceMotion_walking_rest.json.items        10908\n",
       "medTimepoint                                    2\n",
       "dtype: int64"
      ]
     },
     "execution_count": 122,
     "metadata": {},
     "output_type": "execute_result"
    }
   ],
   "source": [
    "check = {\n",
    "    \"Immediately before Parkinson medication\", \n",
    "    \"Just after Parkinson medication (at your best)\"\n",
    "}\n",
    "\n",
    "normal_data = pd_gait_df[pd_gait_df['medTimepoint'].isin(check)]\n",
    "normal_data.nunique() # healthCode -> 470"
   ]
  },
  {
   "cell_type": "code",
   "execution_count": 123,
   "metadata": {},
   "outputs": [],
   "source": [
    "# healthCode list\n",
    "healthCode_list = normal_data['healthCode'].unique()"
   ]
  },
  {
   "cell_type": "code",
   "execution_count": 124,
   "metadata": {},
   "outputs": [
    {
     "data": {
      "text/plain": [
       "health-history                               10\n",
       "healthCode                                   10\n",
       "professional-diagnosis                        1\n",
       "medication-start-year                         5\n",
       "onset-year                                    6\n",
       "recordId                                    415\n",
       "createdOn                                   415\n",
       "appVersion                                    3\n",
       "phoneInfo                                     3\n",
       "accel_walking_outbound.json.items           415\n",
       "deviceMotion_walking_outbound.json.items    415\n",
       "pedometer_walking_outbound.json.items       415\n",
       "accel_walking_return.json.items             313\n",
       "deviceMotion_walking_return.json.items      313\n",
       "pedometer_walking_return.json.items         313\n",
       "accel_walking_rest.json.items               415\n",
       "deviceMotion_walking_rest.json.items        415\n",
       "medTimepoint                                  2\n",
       "dtype: int64"
      ]
     },
     "execution_count": 124,
     "metadata": {},
     "output_type": "execute_result"
    }
   ],
   "source": [
    "# Selected hc\n",
    "sel_k = 10\n",
    "selected_hc = healthCode_list[:sel_k]\n",
    "selected_df = normal_data[normal_data['healthCode'].isin(selected_hc)]\n",
    "selected_df.nunique()"
   ]
  },
  {
   "cell_type": "markdown",
   "metadata": {},
   "source": [
    "# Visualize Cos Distance Model"
   ]
  },
  {
   "cell_type": "code",
   "execution_count": 125,
   "metadata": {},
   "outputs": [],
   "source": [
    "import torch\n",
    "import numpy as np\n",
    "from PIL import Image\n",
    "import os\n",
    "import sys\n",
    "import pickle\n",
    "import cv2\n",
    "#!{sys.executable} -m pip install opencv-python\n",
    "\n",
    "from torch.utils.data.dataloader import DataLoader\n",
    "from torch.utils.data.dataset import Dataset\n",
    "import torchvision.models as models\n",
    "import torch.nn as nn\n",
    "\n",
    "from scipy.spatial.distance import pdist, squareform\n",
    "from scipy.stats import norm"
   ]
  },
  {
   "cell_type": "code",
   "execution_count": 126,
   "metadata": {},
   "outputs": [],
   "source": [
    "def extract_features(model, dataloader, num_features, device, verbose = False):\n",
    "    \"\"\"\n",
    "    Extract features.\n",
    "\n",
    "    Args\n",
    "        model(torch.nn.Module): CNN model.\n",
    "        dataloader(torch.evaluate.data.DataLoader): Data loader.\n",
    "        num_features(int): Number of features.\n",
    "        device(torch.device): Using GPU or CPU.\n",
    "        verbose(bool): Print log.\n",
    "\n",
    "    Returns\n",
    "        features(torch.Tensor): Features.\n",
    "    \"\"\"\n",
    "    model.eval()\n",
    "    model.set_extract_features(True)\n",
    "    features = torch.zeros(len(dataloader.dataset.data), num_features)\n",
    "    with torch.no_grad():\n",
    "        N = len(dataloader)\n",
    "        for i, (data, index) in enumerate(dataloader):\n",
    "            if verbose:\n",
    "                logger.debug('[Batch:{}/{}]'.format(i+1, N))\n",
    "            data = data.to(device)\n",
    "            features[index, :] = model(data).cpu()\n",
    "\n",
    "    model.set_extract_features(False)\n",
    "    model.train()\n",
    "\n",
    "    return features"
   ]
  },
  {
   "cell_type": "code",
   "execution_count": 127,
   "metadata": {},
   "outputs": [],
   "source": [
    "def generate_similarity_matrix(features, alpha = 2, beta = 2):\n",
    "    \"\"\"\n",
    "    Generate similarity matrix.\n",
    "\n",
    "    Args\n",
    "        features(torch.Tensor): Features.\n",
    "        alpha, beta(float): Hyper-parameters.\n",
    "\n",
    "    Returns\n",
    "        S(torch.Tensor): Similarity matrix.\n",
    "    \"\"\"\n",
    "    # Cosine similarity\n",
    "    cos_dist = squareform(pdist(features.numpy(), 'cosine'))\n",
    "    # Find maximum count of cosine distance\n",
    "    max_cnt, max_cos = 0, 0\n",
    "    interval = 1. / 100\n",
    "    cur = 0\n",
    "    for i in range(100):\n",
    "        cur_cnt = np.sum((cos_dist > cur) & (cos_dist < cur + interval))\n",
    "        if max_cnt < cur_cnt:\n",
    "            max_cnt = cur_cnt\n",
    "            max_cos = cur\n",
    "        cur += interval\n",
    "\n",
    "    # Split features into two parts\n",
    "    flat_cos_dist = cos_dist.reshape((-1, 1))\n",
    "    left = flat_cos_dist[np.where(flat_cos_dist <= max_cos)[0]]\n",
    "    right = flat_cos_dist[np.where(flat_cos_dist > max_cos)[0]]\n",
    "\n",
    "    # Reconstruct gaussian distribution\n",
    "    left = np.concatenate([left, 2 * max_cos - left])\n",
    "    right = np.concatenate([2 * max_cos - right, right])\n",
    "\n",
    "    # Model data using gaussian distribution\n",
    "    left_mean, left_std = norm.fit(left)\n",
    "    right_mean, right_std = norm.fit(right)\n",
    "\n",
    "    # Construct similarity matrix\n",
    "    S = (cos_dist < (left_mean - alpha * left_std)) * 1.0 + (cos_dist > (right_mean + beta * right_std)) * -1.0\n",
    "\n",
    "    return torch.FloatTensor(S), cos_dist"
   ]
  },
  {
   "cell_type": "code",
   "execution_count": 128,
   "metadata": {},
   "outputs": [],
   "source": [
    "def load_model(arch, code_length):\n",
    "    \"\"\"\n",
    "    Load CNN model.\n",
    "\n",
    "    Args\n",
    "        arch(str): Model name.\n",
    "        code_length(int): Hash code length.\n",
    "\n",
    "    Returns\n",
    "        model(torch.nn.Module): CNN model.\n",
    "    \"\"\"\n",
    "    if arch == 'alexnet':\n",
    "        model = models.alexnet(pretrained=True)\n",
    "        model.classifier = model.classifier[:-2]\n",
    "        model = ModelWrapper(model, 4096, code_length)\n",
    "    elif arch == 'vgg16':\n",
    "        model = models.vgg16(pretrained=True)\n",
    "        model.classifier = model.classifier[:-3]\n",
    "        model = ModelWrapper(model, 4096, code_length)\n",
    "    else:\n",
    "        raise ValueError(\"Invalid model name!\")\n",
    "\n",
    "    return model\n",
    "\n",
    "class ModelWrapper(nn.Module):\n",
    "    \"\"\"\n",
    "    Add tanh activate function into model.\n",
    "\n",
    "    Args\n",
    "        model(torch.nn.Module): CNN model.\n",
    "        last_node(int): Last layer outputs size.\n",
    "        code_length(int): Hash code length.\n",
    "    \"\"\"\n",
    "    def __init__(self, model, last_node, code_length):\n",
    "        super(ModelWrapper, self).__init__()\n",
    "        self.model = model\n",
    "        self.code_length = code_length\n",
    "        self.hash_layer = nn.Sequential(\n",
    "            nn.ReLU(inplace=True),\n",
    "            nn.Linear(last_node, code_length),\n",
    "            nn.Tanh(),\n",
    "        )\n",
    "\n",
    "        # Extract features\n",
    "        self.extract_features = False\n",
    "\n",
    "    def forward(self, x):\n",
    "        if self.extract_features:\n",
    "            return self.model(x)\n",
    "        else:\n",
    "            return self.hash_layer(self.model(x))\n",
    "\n",
    "    def set_extract_features(self, flag):\n",
    "        \"\"\"\n",
    "        Extract features.\n",
    "\n",
    "        Args\n",
    "            flag(bool): true, if one needs extract features.\n",
    "        \"\"\"\n",
    "        self.extract_features = flag\n",
    "\n",
    "    def snapshot(self, it, optimizer):\n",
    "        \"\"\"\n",
    "        Save model snapshot.\n",
    "\n",
    "        Args\n",
    "            it(int): Iteration.\n",
    "            optimizer(torch.optim): Optimizer.\n",
    "\n",
    "        Returns\n",
    "            None\n",
    "        \"\"\"\n",
    "        torch.save({\n",
    "            'iteration': it,\n",
    "            'model_state_dict': self.state_dict(),\n",
    "            'optimizer_state_dict': optimizer.state_dict(),\n",
    "        }, os.path.join('checkpoints', 'resume_{}.t'.format(it)))\n",
    "\n",
    "    def load_snapshot(self, root, optimizer=None):\n",
    "        \"\"\"\n",
    "        Load model snapshot.\n",
    "\n",
    "        Args\n",
    "            root(str): Path of model snapshot.\n",
    "            optimizer(torch.optim): Optimizer.\n",
    "\n",
    "        Returns\n",
    "            optimizer(torch.optim, optional): Optimizer, if parameter 'optimizer' given.\n",
    "            it(int): Iteration, if parameter 'optimizer' given.\n",
    "        \"\"\"\n",
    "        checkpoint = torch.load(root)\n",
    "        self.load_state_dict(checkpoint['model_state_dict'])\n",
    "        if optimizer:\n",
    "            optimizer.load_state_dict(checkpoint['optimizer_state_dict'])\n",
    "            it = checkpoint['iteration']\n",
    "            return optimizer, it"
   ]
  },
  {
   "cell_type": "code",
   "execution_count": 129,
   "metadata": {},
   "outputs": [
    {
     "data": {
      "text/plain": [
       "ModelWrapper(\n",
       "  (model): VGG(\n",
       "    (features): Sequential(\n",
       "      (0): Conv2d(3, 64, kernel_size=(3, 3), stride=(1, 1), padding=(1, 1))\n",
       "      (1): ReLU(inplace=True)\n",
       "      (2): Conv2d(64, 64, kernel_size=(3, 3), stride=(1, 1), padding=(1, 1))\n",
       "      (3): ReLU(inplace=True)\n",
       "      (4): MaxPool2d(kernel_size=2, stride=2, padding=0, dilation=1, ceil_mode=False)\n",
       "      (5): Conv2d(64, 128, kernel_size=(3, 3), stride=(1, 1), padding=(1, 1))\n",
       "      (6): ReLU(inplace=True)\n",
       "      (7): Conv2d(128, 128, kernel_size=(3, 3), stride=(1, 1), padding=(1, 1))\n",
       "      (8): ReLU(inplace=True)\n",
       "      (9): MaxPool2d(kernel_size=2, stride=2, padding=0, dilation=1, ceil_mode=False)\n",
       "      (10): Conv2d(128, 256, kernel_size=(3, 3), stride=(1, 1), padding=(1, 1))\n",
       "      (11): ReLU(inplace=True)\n",
       "      (12): Conv2d(256, 256, kernel_size=(3, 3), stride=(1, 1), padding=(1, 1))\n",
       "      (13): ReLU(inplace=True)\n",
       "      (14): Conv2d(256, 256, kernel_size=(3, 3), stride=(1, 1), padding=(1, 1))\n",
       "      (15): ReLU(inplace=True)\n",
       "      (16): MaxPool2d(kernel_size=2, stride=2, padding=0, dilation=1, ceil_mode=False)\n",
       "      (17): Conv2d(256, 512, kernel_size=(3, 3), stride=(1, 1), padding=(1, 1))\n",
       "      (18): ReLU(inplace=True)\n",
       "      (19): Conv2d(512, 512, kernel_size=(3, 3), stride=(1, 1), padding=(1, 1))\n",
       "      (20): ReLU(inplace=True)\n",
       "      (21): Conv2d(512, 512, kernel_size=(3, 3), stride=(1, 1), padding=(1, 1))\n",
       "      (22): ReLU(inplace=True)\n",
       "      (23): MaxPool2d(kernel_size=2, stride=2, padding=0, dilation=1, ceil_mode=False)\n",
       "      (24): Conv2d(512, 512, kernel_size=(3, 3), stride=(1, 1), padding=(1, 1))\n",
       "      (25): ReLU(inplace=True)\n",
       "      (26): Conv2d(512, 512, kernel_size=(3, 3), stride=(1, 1), padding=(1, 1))\n",
       "      (27): ReLU(inplace=True)\n",
       "      (28): Conv2d(512, 512, kernel_size=(3, 3), stride=(1, 1), padding=(1, 1))\n",
       "      (29): ReLU(inplace=True)\n",
       "      (30): MaxPool2d(kernel_size=2, stride=2, padding=0, dilation=1, ceil_mode=False)\n",
       "    )\n",
       "    (avgpool): AdaptiveAvgPool2d(output_size=(7, 7))\n",
       "    (classifier): Sequential(\n",
       "      (0): Linear(in_features=25088, out_features=4096, bias=True)\n",
       "      (1): ReLU(inplace=True)\n",
       "      (2): Dropout(p=0.5, inplace=False)\n",
       "      (3): Linear(in_features=4096, out_features=4096, bias=True)\n",
       "    )\n",
       "  )\n",
       "  (hash_layer): Sequential(\n",
       "    (0): ReLU(inplace=True)\n",
       "    (1): Linear(in_features=4096, out_features=12, bias=True)\n",
       "    (2): Tanh()\n",
       "  )\n",
       ")"
      ]
     },
     "execution_count": 129,
     "metadata": {},
     "output_type": "execute_result"
    }
   ],
   "source": [
    "num_features = {\n",
    "    'alexnet': 4096,\n",
    "    'vgg16': 4096,\n",
    "}\n",
    "device = torch.device(\"cuda:0\" if torch.cuda.is_available() else \"cpu\")\n",
    "code_length = 12\n",
    "arch = 'vgg16'\n",
    "\n",
    "model = load_model(arch, code_length)\n",
    "model.to(device)"
   ]
  },
  {
   "cell_type": "code",
   "execution_count": 130,
   "metadata": {},
   "outputs": [],
   "source": [
    "class pdData(Dataset):\n",
    "    \"\"\"\n",
    "    pdData dataset.\n",
    "    \"\"\"\n",
    "\n",
    "    def __init__(self, record_set=None):\n",
    "        \n",
    "        self.base_folder = './result/feature_seg'\n",
    "        self.data = []\n",
    "        \n",
    "        for file_name in os.listdir(self.base_folder):\n",
    "            fn = file_name.split('_')\n",
    "            if fn[0] not in record_set:\n",
    "                continue\n",
    "                \n",
    "            file_path = os.path.join(self.base_folder, file_name)\n",
    "            try:\n",
    "                img = cv2.imread(file_path)\n",
    "                self.data.append(img)\n",
    "            except:\n",
    "                print(\"image path not exist\")\n",
    "         \n",
    "        img_size = self.data[0].shape\n",
    "        self.data = np.vstack(self.data).reshape(-1, img_size[-3],img_size[-2], img_size[-1])\n",
    "        self.data = torch.from_numpy(self.data.transpose((0,3,1,2))).type(torch.FloatTensor)\n",
    "        \n",
    "    def __getitem__(self, index):\n",
    "        \n",
    "        img = self.data[index]\n",
    "        #img = Image.fromarray(img)\n",
    "        return img, index\n",
    "\n",
    "    def __len__(self):\n",
    "        return len(self.data)"
   ]
  },
  {
   "cell_type": "code",
   "execution_count": 147,
   "metadata": {},
   "outputs": [
    {
     "name": "stderr",
     "output_type": "stream",
     "text": [
      "/opt/conda/lib/python3.8/site-packages/seaborn/distributions.py:2557: FutureWarning: `distplot` is a deprecated function and will be removed in a future version. Please adapt your code to use either `displot` (a figure-level function with similar flexibility) or `histplot` (an axes-level function for histograms).\n",
      "  warnings.warn(msg, FutureWarning)\n",
      "/opt/conda/lib/python3.8/site-packages/seaborn/distributions.py:2557: FutureWarning: `distplot` is a deprecated function and will be removed in a future version. Please adapt your code to use either `displot` (a figure-level function with similar flexibility) or `histplot` (an axes-level function for histograms).\n",
      "  warnings.warn(msg, FutureWarning)\n",
      "/opt/conda/lib/python3.8/site-packages/seaborn/distributions.py:2557: FutureWarning: `distplot` is a deprecated function and will be removed in a future version. Please adapt your code to use either `displot` (a figure-level function with similar flexibility) or `histplot` (an axes-level function for histograms).\n",
      "  warnings.warn(msg, FutureWarning)\n",
      "/opt/conda/lib/python3.8/site-packages/seaborn/distributions.py:2557: FutureWarning: `distplot` is a deprecated function and will be removed in a future version. Please adapt your code to use either `displot` (a figure-level function with similar flexibility) or `histplot` (an axes-level function for histograms).\n",
      "  warnings.warn(msg, FutureWarning)\n",
      "/opt/conda/lib/python3.8/site-packages/seaborn/distributions.py:2557: FutureWarning: `distplot` is a deprecated function and will be removed in a future version. Please adapt your code to use either `displot` (a figure-level function with similar flexibility) or `histplot` (an axes-level function for histograms).\n",
      "  warnings.warn(msg, FutureWarning)\n",
      "/opt/conda/lib/python3.8/site-packages/seaborn/distributions.py:2557: FutureWarning: `distplot` is a deprecated function and will be removed in a future version. Please adapt your code to use either `displot` (a figure-level function with similar flexibility) or `histplot` (an axes-level function for histograms).\n",
      "  warnings.warn(msg, FutureWarning)\n",
      "/opt/conda/lib/python3.8/site-packages/seaborn/distributions.py:2557: FutureWarning: `distplot` is a deprecated function and will be removed in a future version. Please adapt your code to use either `displot` (a figure-level function with similar flexibility) or `histplot` (an axes-level function for histograms).\n",
      "  warnings.warn(msg, FutureWarning)\n",
      "/opt/conda/lib/python3.8/site-packages/seaborn/distributions.py:2557: FutureWarning: `distplot` is a deprecated function and will be removed in a future version. Please adapt your code to use either `displot` (a figure-level function with similar flexibility) or `histplot` (an axes-level function for histograms).\n",
      "  warnings.warn(msg, FutureWarning)\n",
      "/opt/conda/lib/python3.8/site-packages/seaborn/distributions.py:2557: FutureWarning: `distplot` is a deprecated function and will be removed in a future version. Please adapt your code to use either `displot` (a figure-level function with similar flexibility) or `histplot` (an axes-level function for histograms).\n",
      "  warnings.warn(msg, FutureWarning)\n",
      "/opt/conda/lib/python3.8/site-packages/seaborn/distributions.py:2557: FutureWarning: `distplot` is a deprecated function and will be removed in a future version. Please adapt your code to use either `displot` (a figure-level function with similar flexibility) or `histplot` (an axes-level function for histograms).\n",
      "  warnings.warn(msg, FutureWarning)\n"
     ]
    },
    {
     "data": {
      "image/png": "[encoded data removed]",
      "text/plain": [
       "<Figure size 432x288 with 1 Axes>"
      ]
     },
     "metadata": {
      "needs_background": "light"
     },
     "output_type": "display_data"
    },
    {
     "data": {
      "image/png": "[encoded data removed]",
      "text/plain": [
       "<Figure size 432x288 with 1 Axes>"
      ]
     },
     "metadata": {
      "needs_background": "light"
     },
     "output_type": "display_data"
    },
    {
     "data": {
      "image/png": "[encoded data removed]",
      "text/plain": [
       "<Figure size 432x288 with 1 Axes>"
      ]
     },
     "metadata": {
      "needs_background": "light"
     },
     "output_type": "display_data"
    },
    {
     "data": {
      "image/png": "[encoded data removed]",
      "text/plain": [
       "<Figure size 432x288 with 1 Axes>"
      ]
     },
     "metadata": {
      "needs_background": "light"
     },
     "output_type": "display_data"
    },
    {
     "data": {
      "image/png": "[encoded data removed]",
      "text/plain": [
       "<Figure size 432x288 with 1 Axes>"
      ]
     },
     "metadata": {
      "needs_background": "light"
     },
     "output_type": "display_data"
    },
    {
     "data": {
      "image/png": "[encoded data removed]",
      "text/plain": [
       "<Figure size 432x288 with 1 Axes>"
      ]
     },
     "metadata": {
      "needs_background": "light"
     },
     "output_type": "display_data"
    },
    {
     "data": {
      "image/png": "[encoded data removed]",
      "text/plain": [
       "<Figure size 432x288 with 1 Axes>"
      ]
     },
     "metadata": {
      "needs_background": "light"
     },
     "output_type": "display_data"
    },
    {
     "data": {
      "image/png": "[encoded data removed]",
      "text/plain": [
       "<Figure size 432x288 with 1 Axes>"
      ]
     },
     "metadata": {
      "needs_background": "light"
     },
     "output_type": "display_data"
    },
    {
     "data": {
      "image/png": "[encoded data removed]",
      "text/plain": [
       "<Figure size 432x288 with 1 Axes>"
      ]
     },
     "metadata": {
      "needs_background": "light"
     },
     "output_type": "display_data"
    },
    {
     "data": {
      "image/png": "[encoded data removed]",
      "text/plain": [
       "<Figure size 432x288 with 1 Axes>"
      ]
     },
     "metadata": {
      "needs_background": "light"
     },
     "output_type": "display_data"
    }
   ],
   "source": [
    "for idx, hc_idx in enumerate(selected_hc):\n",
    "    selected_record_id = normal_data[normal_data['healthCode'] == hc_idx]['recordId']\n",
    "    pd_dataset = pdData(set(selected_record_id))\n",
    "    \n",
    "    pd_dataloader = DataLoader(\n",
    "            pd_dataset,\n",
    "            batch_size=24,\n",
    "            pin_memory=True,\n",
    "            num_workers=0,\n",
    "    )\n",
    "    \n",
    "    features = extract_features(model, pd_dataloader, num_features[arch], device)\n",
    "    S, cos_dist = generate_similarity_matrix(features)\n",
    "    \n",
    "    \n",
    "    cos_dist = cos_dist.reshape(-1)\n",
    "    fig = plt.figure()\n",
    "    #ax = fig.add_subplot()\n",
    "    #ax.hist(cos_dist, bins=50, color='blue', alpha=0.7)\n",
    "    sns.set_palette(\"hls\")\n",
    "    sns.distplot(cos_dist,color=\"r\",bins=30,kde=True)\n",
    "    savepath = \"./subject_plot/h\" + str(idx)\n",
    "    plt.savefig(savepath)"
   ]
  },
  {
   "cell_type": "code",
   "execution_count": null,
   "metadata": {},
   "outputs": [],
   "source": []
  }
 ],
 "metadata": {
  "interpreter": {
   "hash": "ab1e8434adb66069a65df6868947587953d2f4c1af8c26972616f1f6c484f786"
  },
  "kernelspec": {
   "display_name": "Python 3",
   "language": "python",
   "name": "python3"
  },
  "language_info": {
   "codemirror_mode": {
    "name": "ipython",
    "version": 3
   },
   "file_extension": ".py",
   "mimetype": "text/x-python",
   "name": "python",
   "nbconvert_exporter": "python",
   "pygments_lexer": "ipython3",
   "version": "3.8.8"
  }
 },
 "nbformat": 4,
 "nbformat_minor": 4
}
