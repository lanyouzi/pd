{
 "cells": [
  {
   "cell_type": "code",
   "execution_count": 2,
   "metadata": {},
   "outputs": [],
   "source": [
    "from utils.utils import get_config, get_distribution_dataframe\n",
    "import os\n",
    "config_path = 'config/med.yaml'\n",
    "config = get_config(config_path)\n",
    "gpu = config['train']['gpu']\n",
    "os.environ['CUDA_VISIBLE_DEVICES'] = str(gpu)"
   ]
  },
  {
   "cell_type": "code",
   "execution_count": 3,
   "metadata": {},
   "outputs": [],
   "source": [
    "import torch\n",
    "import torch.nn as nn\n",
    "import torch.optim as optim\n",
    "from torch.utils.data import DataLoader, random_split\n",
    "from model import SpecNet, MedTestingNet\n",
    "from dataset import MedTestingDataset\n",
    "from train_med import train, predict, test\n",
    "\n",
    "import random\n",
    "import numpy as np\n",
    "import pandas as pd\n",
    "\n",
    "import matplotlib.pyplot as plt\n",
    "import seaborn as sns\n",
    "import sklearn.metrics as metrics"
   ]
  },
  {
   "cell_type": "code",
   "execution_count": 4,
   "metadata": {},
   "outputs": [
    {
     "name": "stdout",
     "output_type": "stream",
     "text": [
      "cuda\n"
     ]
    }
   ],
   "source": [
    "base_dir = config['base']['base_dir']\n",
    "data_dir = config['base']['data_dir']\n",
    "batch_size = config['train']['batch_size']\n",
    "lr = float(config['train']['lr'])\n",
    "num_epoch = config['train']['epoch']\n",
    "rate = config['train']['rate']\n",
    "if torch.cuda.is_available():\n",
    "    device = 'cuda'\n",
    "else:\n",
    "    device = 'cpu'\n",
    "print(device)"
   ]
  },
  {
   "cell_type": "code",
   "execution_count": 5,
   "metadata": {},
   "outputs": [],
   "source": [
    "seed = 10\n",
    "random.seed(seed)\n",
    "np.random.seed(seed)\n",
    "torch.manual_seed(seed)\n",
    "torch.cuda.manual_seed_all(seed)\n",
    "torch.backends.cudnn.deterministic = True"
   ]
  },
  {
   "cell_type": "code",
   "execution_count": 10,
   "metadata": {},
   "outputs": [
    {
     "name": "stdout",
     "output_type": "stream",
     "text": [
      "26370 26370\n",
      "Counter({0: 19880, 1: 6490})\n",
      "660 83 83\n"
     ]
    }
   ],
   "source": [
    "dataset = MedTestingDataset(os.path.join(data_dir, 'feature', 'feature_seg'))\n",
    "train_len = int(len(dataset)*rate)\n",
    "valid_len = int((len(dataset)-train_len)/2)\n",
    "test_len = len(dataset)-train_len-valid_len\n",
    "train_dataset, valid_dataset, test_dataset = random_split(dataset, [train_len, valid_len, test_len])\n",
    "\n",
    "train_dataloader = DataLoader(train_dataset, batch_size=batch_size, shuffle=True, num_workers=0)\n",
    "valid_dataloader = DataLoader(valid_dataset, batch_size=batch_size, shuffle=True, num_workers=0)\n",
    "test_dataloader = DataLoader(test_dataset, batch_size=batch_size, shuffle=True, num_workers=0)\n",
    "print(len(train_dataloader), len(valid_dataloader), len(test_dataloader))\n"
   ]
  },
  {
   "cell_type": "code",
   "execution_count": 6,
   "metadata": {},
   "outputs": [
    {
     "ename": "RuntimeError",
     "evalue": "CUDA error: out of memory\nCUDA kernel errors might be asynchronously reported at some other API call,so the stacktrace below might be incorrect.\nFor debugging consider passing CUDA_LAUNCH_BLOCKING=1.",
     "output_type": "error",
     "traceback": [
      "\u001b[0;31m---------------------------------------------------------------------------\u001b[0m",
      "\u001b[0;31mRuntimeError\u001b[0m                              Traceback (most recent call last)",
      "\u001b[1;32m/home/maruokai/workplace/pd/med_analysis.ipynb Cell 6'\u001b[0m in \u001b[0;36m<module>\u001b[0;34m\u001b[0m\n\u001b[0;32m----> <a href='vscode-notebook-cell://ssh-remote%2Bzju_lab/home/maruokai/workplace/pd/med_analysis.ipynb#ch0000005vscode-remote?line=0'>1</a>\u001b[0m state \u001b[39m=\u001b[39m torch\u001b[39m.\u001b[39;49mload(\u001b[39m'\u001b[39;49m\u001b[39m/mnt/flingroup/maruokai/pd_data/checkpoint/6/best_ckpt.pth\u001b[39;49m\u001b[39m'\u001b[39;49m)\n\u001b[1;32m      <a href='vscode-notebook-cell://ssh-remote%2Bzju_lab/home/maruokai/workplace/pd/med_analysis.ipynb#ch0000005vscode-remote?line=1'>2</a>\u001b[0m base_model \u001b[39m=\u001b[39m SpecNet(out_num\u001b[39m=\u001b[39m\u001b[39m15\u001b[39m)\n\u001b[1;32m      <a href='vscode-notebook-cell://ssh-remote%2Bzju_lab/home/maruokai/workplace/pd/med_analysis.ipynb#ch0000005vscode-remote?line=2'>3</a>\u001b[0m base_model\u001b[39m.\u001b[39mload_state_dict(state[\u001b[39m'\u001b[39m\u001b[39mmodel\u001b[39m\u001b[39m'\u001b[39m])\n",
      "File \u001b[0;32m/mnt/traffic/maruokai/conda/envs/pd/lib/python3.8/site-packages/torch/serialization.py:607\u001b[0m, in \u001b[0;36mload\u001b[0;34m(f, map_location, pickle_module, **pickle_load_args)\u001b[0m\n\u001b[1;32m    <a href='file:///mnt/traffic/maruokai/conda/envs/pd/lib/python3.8/site-packages/torch/serialization.py?line=604'>605</a>\u001b[0m             opened_file\u001b[39m.\u001b[39mseek(orig_position)\n\u001b[1;32m    <a href='file:///mnt/traffic/maruokai/conda/envs/pd/lib/python3.8/site-packages/torch/serialization.py?line=605'>606</a>\u001b[0m             \u001b[39mreturn\u001b[39;00m torch\u001b[39m.\u001b[39mjit\u001b[39m.\u001b[39mload(opened_file)\n\u001b[0;32m--> <a href='file:///mnt/traffic/maruokai/conda/envs/pd/lib/python3.8/site-packages/torch/serialization.py?line=606'>607</a>\u001b[0m         \u001b[39mreturn\u001b[39;00m _load(opened_zipfile, map_location, pickle_module, \u001b[39m*\u001b[39;49m\u001b[39m*\u001b[39;49mpickle_load_args)\n\u001b[1;32m    <a href='file:///mnt/traffic/maruokai/conda/envs/pd/lib/python3.8/site-packages/torch/serialization.py?line=607'>608</a>\u001b[0m \u001b[39mreturn\u001b[39;00m _legacy_load(opened_file, map_location, pickle_module, \u001b[39m*\u001b[39m\u001b[39m*\u001b[39mpickle_load_args)\n",
      "File \u001b[0;32m/mnt/traffic/maruokai/conda/envs/pd/lib/python3.8/site-packages/torch/serialization.py:882\u001b[0m, in \u001b[0;36m_load\u001b[0;34m(zip_file, map_location, pickle_module, pickle_file, **pickle_load_args)\u001b[0m\n\u001b[1;32m    <a href='file:///mnt/traffic/maruokai/conda/envs/pd/lib/python3.8/site-packages/torch/serialization.py?line=879'>880</a>\u001b[0m unpickler \u001b[39m=\u001b[39m UnpicklerWrapper(data_file, \u001b[39m*\u001b[39m\u001b[39m*\u001b[39mpickle_load_args)\n\u001b[1;32m    <a href='file:///mnt/traffic/maruokai/conda/envs/pd/lib/python3.8/site-packages/torch/serialization.py?line=880'>881</a>\u001b[0m unpickler\u001b[39m.\u001b[39mpersistent_load \u001b[39m=\u001b[39m persistent_load\n\u001b[0;32m--> <a href='file:///mnt/traffic/maruokai/conda/envs/pd/lib/python3.8/site-packages/torch/serialization.py?line=881'>882</a>\u001b[0m result \u001b[39m=\u001b[39m unpickler\u001b[39m.\u001b[39;49mload()\n\u001b[1;32m    <a href='file:///mnt/traffic/maruokai/conda/envs/pd/lib/python3.8/site-packages/torch/serialization.py?line=883'>884</a>\u001b[0m torch\u001b[39m.\u001b[39m_utils\u001b[39m.\u001b[39m_validate_loaded_sparse_tensors()\n\u001b[1;32m    <a href='file:///mnt/traffic/maruokai/conda/envs/pd/lib/python3.8/site-packages/torch/serialization.py?line=885'>886</a>\u001b[0m \u001b[39mreturn\u001b[39;00m result\n",
      "File \u001b[0;32m/mnt/traffic/maruokai/conda/envs/pd/lib/python3.8/site-packages/torch/serialization.py:857\u001b[0m, in \u001b[0;36m_load.<locals>.persistent_load\u001b[0;34m(saved_id)\u001b[0m\n\u001b[1;32m    <a href='file:///mnt/traffic/maruokai/conda/envs/pd/lib/python3.8/site-packages/torch/serialization.py?line=854'>855</a>\u001b[0m data_type, key, location, size \u001b[39m=\u001b[39m data\n\u001b[1;32m    <a href='file:///mnt/traffic/maruokai/conda/envs/pd/lib/python3.8/site-packages/torch/serialization.py?line=855'>856</a>\u001b[0m \u001b[39mif\u001b[39;00m key \u001b[39mnot\u001b[39;00m \u001b[39min\u001b[39;00m loaded_storages:\n\u001b[0;32m--> <a href='file:///mnt/traffic/maruokai/conda/envs/pd/lib/python3.8/site-packages/torch/serialization.py?line=856'>857</a>\u001b[0m     load_tensor(data_type, size, key, _maybe_decode_ascii(location))\n\u001b[1;32m    <a href='file:///mnt/traffic/maruokai/conda/envs/pd/lib/python3.8/site-packages/torch/serialization.py?line=857'>858</a>\u001b[0m storage \u001b[39m=\u001b[39m loaded_storages[key]\n\u001b[1;32m    <a href='file:///mnt/traffic/maruokai/conda/envs/pd/lib/python3.8/site-packages/torch/serialization.py?line=858'>859</a>\u001b[0m \u001b[39mreturn\u001b[39;00m storage\n",
      "File \u001b[0;32m/mnt/traffic/maruokai/conda/envs/pd/lib/python3.8/site-packages/torch/serialization.py:846\u001b[0m, in \u001b[0;36m_load.<locals>.load_tensor\u001b[0;34m(data_type, size, key, location)\u001b[0m\n\u001b[1;32m    <a href='file:///mnt/traffic/maruokai/conda/envs/pd/lib/python3.8/site-packages/torch/serialization.py?line=842'>843</a>\u001b[0m dtype \u001b[39m=\u001b[39m data_type(\u001b[39m0\u001b[39m)\u001b[39m.\u001b[39mdtype\n\u001b[1;32m    <a href='file:///mnt/traffic/maruokai/conda/envs/pd/lib/python3.8/site-packages/torch/serialization.py?line=844'>845</a>\u001b[0m storage \u001b[39m=\u001b[39m zip_file\u001b[39m.\u001b[39mget_storage_from_record(name, size, dtype)\u001b[39m.\u001b[39mstorage()\n\u001b[0;32m--> <a href='file:///mnt/traffic/maruokai/conda/envs/pd/lib/python3.8/site-packages/torch/serialization.py?line=845'>846</a>\u001b[0m loaded_storages[key] \u001b[39m=\u001b[39m restore_location(storage, location)\n",
      "File \u001b[0;32m/mnt/traffic/maruokai/conda/envs/pd/lib/python3.8/site-packages/torch/serialization.py:175\u001b[0m, in \u001b[0;36mdefault_restore_location\u001b[0;34m(storage, location)\u001b[0m\n\u001b[1;32m    <a href='file:///mnt/traffic/maruokai/conda/envs/pd/lib/python3.8/site-packages/torch/serialization.py?line=172'>173</a>\u001b[0m \u001b[39mdef\u001b[39;00m \u001b[39mdefault_restore_location\u001b[39m(storage, location):\n\u001b[1;32m    <a href='file:///mnt/traffic/maruokai/conda/envs/pd/lib/python3.8/site-packages/torch/serialization.py?line=173'>174</a>\u001b[0m     \u001b[39mfor\u001b[39;00m _, _, fn \u001b[39min\u001b[39;00m _package_registry:\n\u001b[0;32m--> <a href='file:///mnt/traffic/maruokai/conda/envs/pd/lib/python3.8/site-packages/torch/serialization.py?line=174'>175</a>\u001b[0m         result \u001b[39m=\u001b[39m fn(storage, location)\n\u001b[1;32m    <a href='file:///mnt/traffic/maruokai/conda/envs/pd/lib/python3.8/site-packages/torch/serialization.py?line=175'>176</a>\u001b[0m         \u001b[39mif\u001b[39;00m result \u001b[39mis\u001b[39;00m \u001b[39mnot\u001b[39;00m \u001b[39mNone\u001b[39;00m:\n\u001b[1;32m    <a href='file:///mnt/traffic/maruokai/conda/envs/pd/lib/python3.8/site-packages/torch/serialization.py?line=176'>177</a>\u001b[0m             \u001b[39mreturn\u001b[39;00m result\n",
      "File \u001b[0;32m/mnt/traffic/maruokai/conda/envs/pd/lib/python3.8/site-packages/torch/serialization.py:157\u001b[0m, in \u001b[0;36m_cuda_deserialize\u001b[0;34m(obj, location)\u001b[0m\n\u001b[1;32m    <a href='file:///mnt/traffic/maruokai/conda/envs/pd/lib/python3.8/site-packages/torch/serialization.py?line=154'>155</a>\u001b[0m         \u001b[39mreturn\u001b[39;00m storage_type(obj\u001b[39m.\u001b[39msize())\n\u001b[1;32m    <a href='file:///mnt/traffic/maruokai/conda/envs/pd/lib/python3.8/site-packages/torch/serialization.py?line=155'>156</a>\u001b[0m \u001b[39melse\u001b[39;00m:\n\u001b[0;32m--> <a href='file:///mnt/traffic/maruokai/conda/envs/pd/lib/python3.8/site-packages/torch/serialization.py?line=156'>157</a>\u001b[0m     \u001b[39mreturn\u001b[39;00m obj\u001b[39m.\u001b[39;49mcuda(device)\n",
      "File \u001b[0;32m/mnt/traffic/maruokai/conda/envs/pd/lib/python3.8/site-packages/torch/_utils.py:79\u001b[0m, in \u001b[0;36m_cuda\u001b[0;34m(self, device, non_blocking, **kwargs)\u001b[0m\n\u001b[1;32m     <a href='file:///mnt/traffic/maruokai/conda/envs/pd/lib/python3.8/site-packages/torch/_utils.py?line=76'>77</a>\u001b[0m \u001b[39melse\u001b[39;00m:\n\u001b[1;32m     <a href='file:///mnt/traffic/maruokai/conda/envs/pd/lib/python3.8/site-packages/torch/_utils.py?line=77'>78</a>\u001b[0m     new_type \u001b[39m=\u001b[39m \u001b[39mgetattr\u001b[39m(torch\u001b[39m.\u001b[39mcuda, \u001b[39mself\u001b[39m\u001b[39m.\u001b[39m\u001b[39m__class__\u001b[39m\u001b[39m.\u001b[39m\u001b[39m__name__\u001b[39m)\n\u001b[0;32m---> <a href='file:///mnt/traffic/maruokai/conda/envs/pd/lib/python3.8/site-packages/torch/_utils.py?line=78'>79</a>\u001b[0m     \u001b[39mreturn\u001b[39;00m new_type(\u001b[39mself\u001b[39;49m\u001b[39m.\u001b[39;49msize())\u001b[39m.\u001b[39mcopy_(\u001b[39mself\u001b[39m, non_blocking)\n",
      "File \u001b[0;32m/mnt/traffic/maruokai/conda/envs/pd/lib/python3.8/site-packages/torch/cuda/__init__.py:606\u001b[0m, in \u001b[0;36m_lazy_new\u001b[0;34m(cls, *args, **kwargs)\u001b[0m\n\u001b[1;32m    <a href='file:///mnt/traffic/maruokai/conda/envs/pd/lib/python3.8/site-packages/torch/cuda/__init__.py?line=602'>603</a>\u001b[0m _lazy_init()\n\u001b[1;32m    <a href='file:///mnt/traffic/maruokai/conda/envs/pd/lib/python3.8/site-packages/torch/cuda/__init__.py?line=603'>604</a>\u001b[0m \u001b[39m# We may need to call lazy init again if we are a forked child\u001b[39;00m\n\u001b[1;32m    <a href='file:///mnt/traffic/maruokai/conda/envs/pd/lib/python3.8/site-packages/torch/cuda/__init__.py?line=604'>605</a>\u001b[0m \u001b[39m# del _CudaBase.__new__\u001b[39;00m\n\u001b[0;32m--> <a href='file:///mnt/traffic/maruokai/conda/envs/pd/lib/python3.8/site-packages/torch/cuda/__init__.py?line=605'>606</a>\u001b[0m \u001b[39mreturn\u001b[39;00m \u001b[39msuper\u001b[39;49m(_CudaBase, \u001b[39mcls\u001b[39;49m)\u001b[39m.\u001b[39;49m\u001b[39m__new__\u001b[39;49m(\u001b[39mcls\u001b[39;49m, \u001b[39m*\u001b[39;49margs, \u001b[39m*\u001b[39;49m\u001b[39m*\u001b[39;49mkwargs)\n",
      "\u001b[0;31mRuntimeError\u001b[0m: CUDA error: out of memory\nCUDA kernel errors might be asynchronously reported at some other API call,so the stacktrace below might be incorrect.\nFor debugging consider passing CUDA_LAUNCH_BLOCKING=1."
     ]
    }
   ],
   "source": [
    "state = torch.load('/mnt/flingroup/maruokai/pd_data/checkpoint/6/best_ckpt.pth')\n",
    "base_model = SpecNet(out_num=15)\n",
    "base_model.load_state_dict(state['model'])\n",
    "model = MedTestingNet(base_model)\n",
    "# model = MedTestingNet()\n",
    "criterion = nn.BCELoss()\n",
    "optimizer = optim.SGD(filter(lambda x:x.requires_grad, model.parameters()), lr=lr, weight_decay=5e-4)\n",
    "train_loss_history, train_acc_history, valid_loss_history, valid_acc_history = train(model=model, num_epoch=num_epoch, criterion=criterion, train_dataloader=train_dataloader, valid_dataloader=valid_dataloader, optimizer=optimizer, device=device, log_interval=20, save_dir=data_dir)"
   ]
  },
  {
   "cell_type": "code",
   "execution_count": 8,
   "metadata": {},
   "outputs": [
    {
     "data": {
      "text/plain": [
       "<All keys matched successfully>"
      ]
     },
     "execution_count": 8,
     "metadata": {},
     "output_type": "execute_result"
    }
   ],
   "source": [
    "state = torch.load('/mnt/flingroup/maruokai/datasets/pd_data/checkpoint/6/best_ckpt.pth')\n",
    "base_model = SpecNet(out_num=15)\n",
    "base_model.load_state_dict(state['model'])\n",
    "model = MedTestingNet(base_model)\n",
    "state = torch.load('/mnt/DataCenter/maruokai/datasets/pd/checkpoint/3/best_ckpt.pth', map_location=torch.device('cuda'))\n",
    "model.load_state_dict(state['model'])"
   ]
  },
  {
   "cell_type": "code",
   "execution_count": 11,
   "metadata": {},
   "outputs": [
    {
     "name": "stderr",
     "output_type": "stream",
     "text": [
      "                                               \r"
     ]
    }
   ],
   "source": [
    "logits, label = predict(model, test_dataloader, device=device)"
   ]
  },
  {
   "cell_type": "code",
   "execution_count": 12,
   "metadata": {},
   "outputs": [
    {
     "data": {
      "text/plain": [
       "(2637, 2637)"
      ]
     },
     "execution_count": 12,
     "metadata": {},
     "output_type": "execute_result"
    }
   ],
   "source": [
    "len(logits), len(label)"
   ]
  },
  {
   "cell_type": "code",
   "execution_count": 13,
   "metadata": {},
   "outputs": [],
   "source": [
    "fpr, tpr, thresholds = metrics.roc_curve(y_true=label, y_score=logits)"
   ]
  },
  {
   "cell_type": "code",
   "execution_count": 14,
   "metadata": {},
   "outputs": [
    {
     "data": {
      "text/plain": [
       "0.69473501176737"
      ]
     },
     "execution_count": 14,
     "metadata": {},
     "output_type": "execute_result"
    }
   ],
   "source": [
    "auc = metrics.auc(fpr, tpr)\n",
    "auc"
   ]
  },
  {
   "cell_type": "code",
   "execution_count": null,
   "metadata": {},
   "outputs": [
    {
     "data": {
      "image/png": "[encoded data removed]",
      "text/plain": [
       "<Figure size 432x288 with 1 Axes>"
      ]
     },
     "metadata": {
      "needs_background": "light"
     },
     "output_type": "display_data"
    }
   ],
   "source": [
    "\n",
    "plt.figure()\n",
    "lw = 2\n",
    "plt.plot(fpr, tpr, color='orange',\n",
    "         lw=lw, label='ROC curve (area = %0.2f)' % auc)\n",
    "plt.plot([0, 1], [0, 1], color='blue', lw=lw, linestyle='dashed')\n",
    "plt.plot([0, 1], [1, 0], color='green', lw=lw, linestyle='dotted')\n",
    "plt.xlim([0.0, 1.0])\n",
    "plt.ylim([0.0, 1.05])\n",
    "plt.xlabel('False Positive Rate')\n",
    "plt.ylabel('True Positive Rate')\n",
    "plt.title('Receiver operating characteristic example')\n",
    "plt.legend(loc=\"lower right\")\n",
    "plt.show()\n"
   ]
  },
  {
   "cell_type": "code",
   "execution_count": null,
   "metadata": {},
   "outputs": [
    {
     "data": {
      "text/plain": [
       "array([0.51278627, 0.7476991 , 0.56339514, 0.603834  , 0.5361272 ,\n",
       "       0.5528865 , 0.53449064, 0.51898086, 0.9245435 , 0.9130546 ,\n",
       "       0.5079333 , 0.6539638 , 0.8996746 , 0.64061546, 0.5080933 ,\n",
       "       0.5300758 , 0.54931486, 0.53322774, 0.76227295, 0.64132607,\n",
       "       0.5636836 , 0.65182936, 0.6074509 , 0.5675548 , 0.6067951 ,\n",
       "       0.55826825, 0.5163591 , 0.6803711 , 0.63871676, 0.54116297,\n",
       "       0.5380465 , 0.972347  , 0.7484066 , 0.63254243, 0.5186659 ,\n",
       "       0.67909366, 0.8442683 , 0.6122395 , 0.5696504 , 0.54943436,\n",
       "       0.9000235 , 0.866025  , 0.89891726, 0.54844594, 0.5817849 ,\n",
       "       0.7880879 , 0.65981776, 0.53478533, 0.5901971 , 0.85241896,\n",
       "       0.66665196, 0.82267934, 0.51931787, 0.71718544, 0.5324167 ,\n",
       "       0.5237728 , 0.52210224, 0.55518764, 0.9011064 , 0.655124  ,\n",
       "       0.8751284 , 0.6105733 , 0.5452182 , 0.63782716, 0.7777654 ,\n",
       "       0.7118982 , 0.5201422 , 0.94992745, 0.61131346, 0.6648623 ,\n",
       "       0.5289144 , 0.5023665 , 0.70754004, 0.82456213, 0.72228616,\n",
       "       0.6580012 , 0.8807661 , 0.6698501 , 0.5172591 , 0.5456847 ,\n",
       "       0.6846866 , 0.66611767, 0.52303076, 0.52270776, 0.6536902 ,\n",
       "       0.60147554, 0.53196347, 0.60915   , 0.68427795, 0.6087672 ,\n",
       "       0.9515344 , 0.9051815 , 0.54506886, 0.5371436 , 0.93130463,\n",
       "       0.5659815 , 0.51978296, 0.5734961 , 0.5274144 , 0.6267916 ,\n",
       "       0.688115  , 0.63829875, 0.5920029 , 0.95291185, 0.5561811 ,\n",
       "       0.5886614 , 0.94468963, 0.73859876, 0.66650367, 0.5636029 ,\n",
       "       0.5092412 , 0.7011524 , 0.5824961 , 0.50533235, 0.950223  ,\n",
       "       0.58052945, 0.5718109 , 0.6470853 , 0.64595914, 0.5913481 ,\n",
       "       0.7396606 , 0.6511003 , 0.61828655, 0.95223266, 0.76402587,\n",
       "       0.91850924, 0.9816838 , 0.5182845 , 0.6531423 , 0.5628026 ,\n",
       "       0.6270259 , 0.509794  , 0.569833  , 0.5468375 , 0.6609679 ,\n",
       "       0.6777499 , 0.50973624, 0.78969616, 0.6615967 , 0.5502983 ,\n",
       "       0.59923553, 0.9624739 , 0.6330392 , 0.5046569 , 0.6351013 ,\n",
       "       0.6804704 , 0.60287046, 0.55964893, 0.6164413 , 0.57372636,\n",
       "       0.6868334 , 0.5339782 , 0.9174309 , 0.56750315, 0.565599  ,\n",
       "       0.5658356 , 0.5677659 , 0.5932989 , 0.64454764, 0.505008  ,\n",
       "       0.7679766 , 0.60824347, 0.54217213, 0.5216035 , 0.5062335 ,\n",
       "       0.55720264, 0.94433576, 0.67632186, 0.981229  , 0.81318617,\n",
       "       0.5767836 , 0.5192465 , 0.8710162 , 0.6710947 , 0.61770433,\n",
       "       0.5011652 , 0.900614  , 0.5290474 , 0.5695431 , 0.62121123,\n",
       "       0.938694  , 0.6756959 , 0.5362049 , 0.7173216 , 0.75531965,\n",
       "       0.5447344 , 0.5825858 , 0.66699266, 0.63830686, 0.55503637,\n",
       "       0.5338941 , 0.9832466 , 0.5510813 , 0.6949034 , 0.6272663 ,\n",
       "       0.6202798 , 0.57908237, 0.61778134, 0.5798867 , 0.54382247,\n",
       "       0.6108553 , 0.5193886 , 0.85067326, 0.6649793 , 0.57864946,\n",
       "       0.8340593 , 0.5456847 , 0.65329975, 0.7182897 , 0.51372045,\n",
       "       0.55141455, 0.5686367 , 0.5843512 , 0.8398628 , 0.6067225 ,\n",
       "       0.9231615 , 0.90947616, 0.581209  , 0.5131306 , 0.5489769 ,\n",
       "       0.6452137 , 0.5909125 , 0.54563457, 0.5434854 , 0.66768485,\n",
       "       0.5182371 , 0.6011327 , 0.7279187 , 0.5151869 , 0.626299  ,\n",
       "       0.5324143 , 0.50016534, 0.8774553 , 0.51019776, 0.8585289 ,\n",
       "       0.94917387, 0.6297518 , 0.5335242 , 0.8301566 , 0.5423227 ,\n",
       "       0.5893345 , 0.9747406 , 0.91571945, 0.8522249 , 0.6149388 ,\n",
       "       0.63309485, 0.5258107 , 0.5244422 , 0.5195983 , 0.73432446,\n",
       "       0.75804746, 0.5332915 , 0.52026445, 0.80773056, 0.74852556,\n",
       "       0.5117726 , 0.8546245 , 0.5703472 , 0.55482227, 0.54118174,\n",
       "       0.7134466 , 0.77112615, 0.55122083, 0.50404274, 0.5403765 ,\n",
       "       0.5540402 , 0.5071087 , 0.60037744, 0.6145161 , 0.92779857,\n",
       "       0.55174315, 0.6616695 , 0.9667655 , 0.5276712 , 0.529103  ,\n",
       "       0.7465196 , 0.8987868 , 0.559217  , 0.9578532 , 0.6755402 ,\n",
       "       0.8216803 , 0.86846846, 0.82425207, 0.59556794, 0.5446435 ,\n",
       "       0.55322564, 0.53788626, 0.6183916 , 0.6039604 , 0.5796338 ,\n",
       "       0.75000834, 0.84625006, 0.5471783 , 0.5069043 , 0.5191661 ,\n",
       "       0.619935  , 0.52524984, 0.52177787, 0.97313845, 0.59565353,\n",
       "       0.6561302 ], dtype=float32)"
      ]
     },
     "execution_count": 13,
     "metadata": {},
     "output_type": "execute_result"
    }
   ],
   "source": [
    "logits_np = np.array(logits)\n",
    "logits_np[logits_np>=0.5]"
   ]
  }
 ],
 "metadata": {
  "interpreter": {
   "hash": "b942d6148def75d3b52ebcb510222b94441a4ceff119d274713d11070799a483"
  },
  "kernelspec": {
   "display_name": "Python 3.8.12 ('pd')",
   "language": "python",
   "name": "python3"
  },
  "language_info": {
   "codemirror_mode": {
    "name": "ipython",
    "version": 3
   },
   "file_extension": ".py",
   "mimetype": "text/x-python",
   "name": "python",
   "nbconvert_exporter": "python",
   "pygments_lexer": "ipython3",
   "version": "3.8.12"
  },
  "orig_nbformat": 4
 },
 "nbformat": 4,
 "nbformat_minor": 2
}
